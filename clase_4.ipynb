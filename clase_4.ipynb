{
 "cells": [
  {
   "cell_type": "code",
   "execution_count": 1,
   "metadata": {},
   "outputs": [
    {
     "name": "stdout",
     "output_type": "stream",
     "text": [
      "\"comillas\"\n",
      ",\n",
      ":\n",
      "Esto\n",
      "Esto\n",
      "a\n",
      "archivo\n",
      "diagonal\n",
      "el\n",
      "en\n",
      "es\n",
      "escribe\n",
      "escribir\n",
      "gracias\n",
      "hola\n",
      "invertida\n",
      "la\n",
      "mira\n",
      "puedo\n",
      "tambien\n"
     ]
    }
   ],
   "source": [
    "#este programa lee un archivo de texto y lo imprime ordenado alfabeticamente\n",
    "import os\n",
    "carpeta=\"documentos\\\\\"\n",
    "archivo=\"gpi.txt\"\n",
    "\n",
    "\n",
    "with open(carpeta+archivo,\"r\") as archivo:\n",
    "     texto=archivo.read()\n",
    "     \n",
    "simbolos=[\"(\",\")\",\",\",\".\",\";\",\":\",\"/\"] #lista de simbolos\n",
    "\n",
    "for simbolos in simbolos:\n",
    "    texto=texto.replace(simbolos,\" \" + simbolos + \" \") #reemplazar simbolos por simbolos con espacios\n",
    "    \n",
    "palabras_lista=texto.split() #separar palabras .split() sirve para separar palabras \n",
    "palabras_lista.sort() #ordenar palabras .sort() sirve para ordenar listas\n",
    "for palabra in  palabras_lista: #imprimir palabras ordenadas\n",
    "    print(palabra)  "
   ]
  },
  {
   "cell_type": "code",
   "execution_count": 2,
   "metadata": {},
   "outputs": [
    {
     "name": "stdout",
     "output_type": "stream",
     "text": [
      "apellido\n",
      "apellido\n",
      "apellido\n",
      "apellido\n",
      "apellido\n",
      "apellido\n",
      "apellido\n",
      "apellido\n",
      "apellido\n",
      "apellido\n",
      "apellido\n",
      "apellido\n",
      "apellido\n",
      "apellido\n",
      "apellido\n",
      "apellido\n",
      "apellido\n",
      "apellido\n",
      "apellido\n"
     ]
    }
   ],
   "source": [
    "#este programa lee un archivo de texto y busca una palabra en el texto\n",
    "#expresiones regulares\n",
    "\n",
    "import re #importar el modulo de expresiones regulares\n",
    "carpeta=\"documentos\\\\\"\n",
    "archivo=\"hola.txt\"\n",
    "\n",
    "with open (carpeta+archivo,\"r\") as  archivo:\n",
    "    texto=archivo.read()\n",
    "    \n",
    "expresion_regular=re.compile(r\"apellido\") #compilar la expresion regular la funcion compile() sirve para compilar la expresion regular\n",
    "#resultado_busqueda=expresion_regular.search(texto) #buscar la expresion regular en el texto\n",
    "resultado_busqueda=expresion_regular.finditer(texto) #finditer sirve para buscar todas las coincidencias de la expresion regular en el texto\n",
    "\n",
    "#print(resultado_busqueda.group(0)) #imprimir el resultado de la busqueda group(0) sirve para imprimir el resultado de la busqueda solo sirve para search\n",
    "\n",
    "for resultado in resultado_busqueda: # sirve para el finditer\n",
    "    print(resultado.group(0))"
   ]
  },
  {
   "cell_type": "code",
   "execution_count": 3,
   "metadata": {},
   "outputs": [
    {
     "name": "stdout",
     "output_type": "stream",
     "text": [
      "apellido\n",
      "apellido\n",
      "apellido\n",
      "apellido\n",
      "apellido\n",
      "apellido\n",
      "apellido\n",
      "apellido\n",
      "apellido\n",
      "apellido\n",
      "apellido\n",
      "apellido\n",
      "apellido\n",
      "apellido\n",
      "apellido\n",
      "apellido\n",
      "apellido\n",
      "apellido\n",
      "apellido\n"
     ]
    }
   ],
   "source": [
    "#este programa lee un archivo de texto y busca una palabra en el texto ademas cuenta cuantas veces se repite la palabra en el texto\n",
    "#expresiones regulares\n",
    "\n",
    "import re #importar el modulo de expresiones regulares\n",
    "carpeta=\"documentos\\\\\"\n",
    "archivo=\"hola.txt\"\n",
    "cont=0\n",
    "with open (carpeta+archivo,\"r\") as  archivo:\n",
    "    texto=archivo.read()\n",
    "    \n",
    "expresion_regular=re.compile(r\"apellido?\") #compilar la expresion regular la funcion compile() sirve para compilar la expresion regular\n",
    "\n",
    "resultado_busqueda=expresion_regular.finditer(texto) #finditer sirve para buscar todas las coincidencias de la expresion regular en el texto\n",
    "\n",
    "#\n",
    "for resultado in resultado_busqueda: # sirve para el finditer\n",
    "    print(resultado.group(0))\n",
    "    \n",
    "#print(f\"se repite\"{cont}\" veces\")"
   ]
  }
 ],
 "metadata": {
  "kernelspec": {
   "display_name": "Python 3",
   "language": "python",
   "name": "python3"
  },
  "language_info": {
   "codemirror_mode": {
    "name": "ipython",
    "version": 3
   },
   "file_extension": ".py",
   "mimetype": "text/x-python",
   "name": "python",
   "nbconvert_exporter": "python",
   "pygments_lexer": "ipython3",
   "version": "3.12.2"
  }
 },
 "nbformat": 4,
 "nbformat_minor": 2
}
