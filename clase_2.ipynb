{
 "cells": [
  {
   "cell_type": "code",
   "execution_count": 1,
   "metadata": {},
   "outputs": [
    {
     "name": "stdout",
     "output_type": "stream",
     "text": [
      "Esto es escribe en el archivo\n",
      "Esto tambien\n",
      "mira, puedo escribir \"comillas\" \n",
      "gracias a la diagonal invertida:  \n",
      "\n"
     ]
    }
   ],
   "source": [
    "#crear un nuevo archivo  y copiar lo que esta en el acrchivo gpi\n",
    "c=\"C:\\\\Users\\\\jason\\\\Downloads\\\\sexto\\\\sexto iA\\\\\"\n",
    "e=\"gpi.txt\"\n",
    "s=\"clase2-2.txt\"\n",
    "\n",
    "e2=open(c+e,\"r\")\n",
    "#print(e2.read())  ##lee el archivo gpi y lo imprime \n",
    "\n",
    "s2=open(c+s,\"w\")\n",
    "t=e2.read()\n",
    "t2=t\n",
    "s2.write(t2) ## realiza el copiado del archivo s2 en t2\n",
    "\n",
    "e2.close()\n",
    "s2.close()\n",
    "\n",
    "\n",
    "s3=open(c+s,\"r\")\n",
    "print(s3.read()) #le el archivo nuevo  s2 \"clase2-2\"\n",
    "s3.close()"
   ]
  },
  {
   "cell_type": "code",
   "execution_count": 2,
   "metadata": {},
   "outputs": [
    {
     "name": "stdout",
     "output_type": "stream",
     "text": [
      "Esto es escribe en el archivo\n",
      "Esto tambien\n",
      "mira, puedo escribir \"comillas\" \n",
      "gracias a la diagonal invertida:  \n",
      "\n"
     ]
    }
   ],
   "source": [
    "#crear un nuevo archivo  y copiar lo que esta en el acrchivo gpi\n",
    "\n",
    "\n",
    "c=\"C:\\\\Users\\\\jason\\\\Downloads\\\\sexto\\\\sexto iA\\\\\"\n",
    "e=\"gpi.txt\"\n",
    "s=\"clase2-2.txt\"\n",
    "\n",
    "e2=open(c+e,\"r\")\n",
    "#print(e2.read())  ##lee el archivo gpi y lo imprime \n",
    "\n",
    "s2=open(c+s,\"w\")\n",
    "t=e2.read()\n",
    "t2=t\n",
    "s2.write(t2) ## realiza el copiado del archivo s2 en t2\n",
    "\n",
    "e2.close()\n",
    "s2.close()\n",
    "\n",
    "with open(c+s,\"r\") as archivo:      #forma dos de abrir un archivo \n",
    "    texto=archivo.read()\n",
    "print(texto)"
   ]
  },
  {
   "cell_type": "code",
   "execution_count": 3,
   "metadata": {},
   "outputs": [
    {
     "name": "stdout",
     "output_type": "stream",
     "text": [
      "no encontre la palabra \n"
     ]
    }
   ],
   "source": [
    "#if  busqueda de una palabra\n",
    "#ruta y nombre del archivo \n",
    "c=\"C:\\\\Users\\\\jason\\\\Downloads\\\\sexto\\\\sexto iA\\\\\"\n",
    "e=\"hola.txt\"\n",
    "#palabra=\"apellido\"   busqueda de una sola palabra \n",
    "palabra=input(\"ingresa la palabra a buscar: \")  #busqueda de una palabra buscada por el usuario \n",
    "palabra1=palabra.lower()\n",
    "with open(c+e,\"r\") as archivo:      #forma dos de abrir un archivo \n",
    "    texto=archivo.read()\n",
    "#print(texto)  \n",
    "\n",
    "if palabra1 in texto:\n",
    "    print(\"palabra en contrada\")\n",
    "else:\n",
    "    print(\"no encontre la palabra \")"
   ]
  },
  {
   "cell_type": "code",
   "execution_count": 4,
   "metadata": {},
   "outputs": [
    {
     "name": "stdout",
     "output_type": "stream",
     "text": [
      "semana laboral  ['lunes', 'martes', 'miercoles', 'jueves', 'viernes', 'sabado', 'domingo']\n",
      "dia 1=  lunes\n",
      "dia 2=  martes\n",
      "dia 3=  miercoles\n",
      "dia 4=  jueves\n",
      "dia 5=  viernes\n",
      "dia 6=  sabado\n",
      "dia 7=  domingo\n"
     ]
    }
   ],
   "source": [
    "#Tema nuevo  listas \n",
    "#lisat de argumentos\n",
    "semana_laboral=[\"lunes\",\"martes\",\"miercoles\",\"jueves\",\"viernes\",\"sabado\",\"domingo\"]\n",
    "print(\"semana laboral \",semana_laboral)\n",
    "print(\"dia 1= \", semana_laboral[0])\n",
    "print(\"dia 2= \", semana_laboral[1])\n",
    "print(\"dia 3= \", semana_laboral[2])\n",
    "print(\"dia 4= \", semana_laboral[3])\n",
    "print(\"dia 5= \", semana_laboral[4])\n",
    "print(\"dia 6= \", semana_laboral[5])\n",
    "print(\"dia 7= \", semana_laboral[6])"
   ]
  }
 ],
 "metadata": {
  "kernelspec": {
   "display_name": "Python 3",
   "language": "python",
   "name": "python3"
  },
  "language_info": {
   "codemirror_mode": {
    "name": "ipython",
    "version": 3
   },
   "file_extension": ".py",
   "mimetype": "text/x-python",
   "name": "python",
   "nbconvert_exporter": "python",
   "pygments_lexer": "ipython3",
   "version": "3.12.2"
  }
 },
 "nbformat": 4,
 "nbformat_minor": 2
}
