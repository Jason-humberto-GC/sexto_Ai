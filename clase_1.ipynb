{
 "cells": [
  {
   "cell_type": "code",
   "execution_count": 1,
   "metadata": {},
   "outputs": [
    {
     "name": "stdout",
     "output_type": "stream",
     "text": [
      "primera parte de la clase\n",
      "\n",
      "universidad de colima\n",
      "ingenieria en computacion inteligente\n",
      "hola jason humberto garcia camacho\n",
      "jason humberto garcia camacho tiene la edad de:  18  años\n",
      "operacion1 14\n",
      "x:  11\n",
      "y:  9\n",
      "z:  20 \n",
      "\n"
     ]
    }
   ],
   "source": [
    "##conseptos basicos\n",
    "print(\"primera parte de la clase\\n\")\n",
    "print(\"universidad de colima\")\n",
    "print(\"ingenieria en computacion inteligente\")\n",
    "nombre=\"jason humberto garcia camacho\"\n",
    "print(\"hola\", nombre)\n",
    "edad= input(\"escribe tu edad: \")\n",
    "print(nombre, \"tiene la edad de: \",edad, \" años\")\n",
    "print(\"operacion1\", 4*5-6)\n",
    "x=4+7\n",
    "y=x-2\n",
    "z=x+y\n",
    "print(\"x: \", x)\n",
    "print(\"y: \", y)\n",
    "print(\"z: \", z, \"\\n\")\n",
    "\n"
   ]
  },
  {
   "cell_type": "code",
   "execution_count": 2,
   "metadata": {},
   "outputs": [
    {
     "name": "stdout",
     "output_type": "stream",
     "text": [
      "segunda parte de la clase \n",
      " \n"
     ]
    },
    {
     "ename": "UnicodeDecodeError",
     "evalue": "'charmap' codec can't decode byte 0x9d in position 2184: character maps to <undefined>",
     "output_type": "error",
     "traceback": [
      "\u001b[1;31m---------------------------------------------------------------------------\u001b[0m",
      "\u001b[1;31mUnicodeDecodeError\u001b[0m                        Traceback (most recent call last)",
      "Cell \u001b[1;32mIn[2], line 4\u001b[0m\n\u001b[0;32m      2\u001b[0m \u001b[38;5;66;03m##abrir un archivo de texto sin modificarlos y visualisarlo en la terminal \u001b[39;00m\n\u001b[0;32m      3\u001b[0m archivo_abierto\u001b[38;5;241m=\u001b[39m\u001b[38;5;28mopen\u001b[39m(\u001b[38;5;124m\"\u001b[39m\u001b[38;5;124mC:\u001b[39m\u001b[38;5;130;01m\\\\\u001b[39;00m\u001b[38;5;124mUsers\u001b[39m\u001b[38;5;130;01m\\\\\u001b[39;00m\u001b[38;5;124mjason\u001b[39m\u001b[38;5;130;01m\\\\\u001b[39;00m\u001b[38;5;124mDownloads\u001b[39m\u001b[38;5;130;01m\\\\\u001b[39;00m\u001b[38;5;124msexto\u001b[39m\u001b[38;5;130;01m\\\\\u001b[39;00m\u001b[38;5;124msexto iA\u001b[39m\u001b[38;5;130;01m\\\\\u001b[39;00m\u001b[38;5;124mhola.txt\u001b[39m\u001b[38;5;124m\"\u001b[39m)\n\u001b[1;32m----> 4\u001b[0m texto\u001b[38;5;241m=\u001b[39m\u001b[43marchivo_abierto\u001b[49m\u001b[38;5;241;43m.\u001b[39;49m\u001b[43mread\u001b[49m\u001b[43m(\u001b[49m\u001b[43m)\u001b[49m\n\u001b[0;32m      5\u001b[0m \u001b[38;5;28mprint\u001b[39m(texto,\u001b[38;5;124m\"\u001b[39m\u001b[38;5;130;01m\\n\u001b[39;00m\u001b[38;5;124m\"\u001b[39m)\n\u001b[0;32m      6\u001b[0m archivo_abierto\u001b[38;5;241m.\u001b[39mclose()\n",
      "File \u001b[1;32mc:\\Users\\jason\\AppData\\Local\\Programs\\Python\\Python312\\Lib\\encodings\\cp1252.py:23\u001b[0m, in \u001b[0;36mIncrementalDecoder.decode\u001b[1;34m(self, input, final)\u001b[0m\n\u001b[0;32m     22\u001b[0m \u001b[38;5;28;01mdef\u001b[39;00m \u001b[38;5;21mdecode\u001b[39m(\u001b[38;5;28mself\u001b[39m, \u001b[38;5;28minput\u001b[39m, final\u001b[38;5;241m=\u001b[39m\u001b[38;5;28;01mFalse\u001b[39;00m):\n\u001b[1;32m---> 23\u001b[0m     \u001b[38;5;28;01mreturn\u001b[39;00m \u001b[43mcodecs\u001b[49m\u001b[38;5;241;43m.\u001b[39;49m\u001b[43mcharmap_decode\u001b[49m\u001b[43m(\u001b[49m\u001b[38;5;28;43minput\u001b[39;49m\u001b[43m,\u001b[49m\u001b[38;5;28;43mself\u001b[39;49m\u001b[38;5;241;43m.\u001b[39;49m\u001b[43merrors\u001b[49m\u001b[43m,\u001b[49m\u001b[43mdecoding_table\u001b[49m\u001b[43m)\u001b[49m[\u001b[38;5;241m0\u001b[39m]\n",
      "\u001b[1;31mUnicodeDecodeError\u001b[0m: 'charmap' codec can't decode byte 0x9d in position 2184: character maps to <undefined>"
     ]
    }
   ],
   "source": [
    "print(\"segunda parte de la clase \\n \")\n",
    "##abrir un archivo de texto sin modificarlos y visualisarlo en la terminal \n",
    "archivo_abierto=open(\"C:\\\\Users\\\\jason\\\\Downloads\\\\sexto\\\\sexto iA\\\\hola.txt\")\n",
    "texto=archivo_abierto.read()\n",
    "print(texto,\"\\n\")\n",
    "archivo_abierto.close()"
   ]
  },
  {
   "cell_type": "code",
   "execution_count": null,
   "metadata": {},
   "outputs": [
    {
     "name": "stdout",
     "output_type": "stream",
     "text": [
      "tercera parte de la clase \n",
      "\n"
     ]
    }
   ],
   "source": [
    "print(\"tercera parte de la clase \\n\")\n",
    "###escritura de un archivo que ya existe, en donde se modifica lo que tiene y se ponen nuevos datos desde el codigo \n",
    "archivo_abierto=open(\"C:\\\\Users\\\\jason\\\\Downloads\\\\sexto\\\\sexto iA\\\\hola.txt\",\"w\")\n",
    "\n",
    "archivo_abierto.write(\"Esto es escribe en el archivo\\n\")\n",
    "archivo_abierto.write(\"Esto tambien\\n\")\n",
    "archivo_abierto.write(\"mira, puedo escribir \\\"comillas\\\" \\n\")\n",
    "archivo_abierto.write(\"gracias a la diagonal invertida:  \\n\")\n",
    "archivo_abierto.close()\n"
   ]
  },
  {
   "cell_type": "code",
   "execution_count": null,
   "metadata": {},
   "outputs": [
    {
     "name": "stdout",
     "output_type": "stream",
     "text": [
      "Esto es escribe en el archivo\n",
      "Esto tambien\n",
      "mira, puedo escribir \"comillas\" \n",
      "gracias a la diagonal invertida:  \n",
      "\n"
     ]
    }
   ],
   "source": [
    "## ver lo que se modifico en el archivo de texto \n",
    "archivo_abierto=open(\"C:\\\\Users\\\\jason\\\\Downloads\\\\sexto\\\\sexto iA\\\\hola.txt\")\n",
    "texto=archivo_abierto.read()\n",
    "print(texto)\n",
    "archivo_abierto.close()"
   ]
  },
  {
   "cell_type": "code",
   "execution_count": null,
   "metadata": {},
   "outputs": [
    {
     "name": "stdout",
     "output_type": "stream",
     "text": [
      "Origen del apellido GarcÃ­a.\n",
      "El apellido GarcÃ­a tiene sus raÃ­ces en la penÃ­nsula ibÃ©rica y se originÃ³ durante la Edad Media. Aunque el origen exacto del apellido es incierto, se cree que proviene de la regiÃ³n de Vasconia, que abarca partes de la actual EspaÃ±a y Francia. Es un apellido patronÃ­mico, lo que significa que se deriva del nombre propio de un antepasado. Sin embargo, el nombre propio Â«GarcÃ­aÂ» en sÃ­ mismo es de origen incierto y su significado sigue siendo objeto de debate entre los expertos.\n",
      "\n",
      "Historia del apellido GarcÃ­a.\n",
      "El apellido GarcÃ­a es uno de los apellidos mÃ¡s antiguos de EspaÃ±a, y su uso se remonta al menos al siglo IX. Los primeros registros del apellido se encuentran en la regiÃ³n de Vasconia y Navarra, donde varios reyes y nobles llevaban el nombre GarcÃ­a.\n",
      "\n",
      "Con el paso del tiempo, el apellido GarcÃ­a se extendiÃ³ por toda la penÃ­nsula ibÃ©rica y se convirtiÃ³ en uno de los apellidos mÃ¡s comunes en EspaÃ±a. A medida que los espaÃ±oles colonizaron AmÃ©rica Latina y otras partes del mundo, el apellido GarcÃ­a tambiÃ©n se propagÃ³ a estos lugares y se convirtiÃ³ en un apellido comÃºn en paÃ­ses como MÃ©xico, Argentina y Colombia, entre otros.\n",
      "\n",
      "Significado del apellido GarcÃ­a.\n",
      "El significado exacto del apellido GarcÃ­a es incierto, ya que el nombre propio del cual deriva es de origen desconocido. Algunos expertos sugieren que el nombre GarcÃ­a podrÃ­a estar relacionado con la palabra vasca Â«artzÂ» o Â«artzaiÂ», que significa Â«pastorÂ». En este caso, el apellido GarcÃ­a podrÃ­a haberse originado como un apodo para alguien que trabajaba como pastor.\n",
      "\n",
      "Otra teorÃ­a sugiere que GarcÃ­a podrÃ­a derivarse del nombre germÃ¡nico Â«GarseaÂ» o Â«GarseanÂ», que podrÃ­a estar relacionado con la palabra Â«gerÂ», que significa Â«lanzaÂ». Si esta teorÃ­a es correcta, entonces el apellido GarcÃ­a podrÃ­a tener un origen militar y estar relacionado con un guerrero o alguien que utilizaba una lanza en la batalla.\n",
      "\n",
      "Resumiendo, el apellido GarcÃ­a es de origen espaÃ±ol y se remonta a la Edad Media. Aunque su significado exacto sigue siendo incierto, es probable que estÃ© relacionado con un nombre propio de origen desconocido. El apellido GarcÃ­a es uno de los apellidos mÃ¡s comunes en EspaÃ±a y AmÃ©rica Latina y tiene una larga historia que se extiende a lo largo de varios siglos y continentes.\n"
     ]
    }
   ],
   "source": [
    "##abrir un archivo de texto sin modificarlos y visualisarlo en la terminal \n",
    "archivo_abierto=open(\"C:\\\\Users\\\\jason\\\\Downloads\\\\sexto\\\\sexto iA\\\\hola.txt\")\n",
    "texto=archivo_abierto.read()\n",
    "print(texto)\n",
    "archivo_abierto.close()"
   ]
  },
  {
   "cell_type": "code",
   "execution_count": null,
   "metadata": {},
   "outputs": [
    {
     "name": "stdout",
     "output_type": "stream",
     "text": [
      "Esto es escribe en el archivo\n",
      "Esto tambien\n",
      "mira, puedo escribir \"comillas\" \n",
      "gracias a la diagonal invertida:  \n",
      "\n"
     ]
    }
   ],
   "source": [
    "###escritura de un archivo que ya existe, en donde se modifica lo que tiene y se ponen nuevos datos desde el codigo \n",
    "archivo_abierto=open(\"C:\\\\Users\\\\jason\\\\Downloads\\\\sexto\\\\sexto iA\\\\gpi.txt\",\"w\")\n",
    "\n",
    "archivo_abierto.write(\"Esto es escribe en el archivo\\n\")\n",
    "archivo_abierto.write(\"Esto tambien\\n\")\n",
    "archivo_abierto.write(\"mira, puedo escribir \\\"comillas\\\" \\n\")\n",
    "archivo_abierto.write(\"gracias a la diagonal invertida:  \\n\")\n",
    "archivo_abierto.close()\n",
    "\n",
    "## ver lo que se modifico en el archivo de texto \n",
    "archivo_abierto=open(\"C:\\\\Users\\\\jason\\\\Downloads\\\\sexto\\\\sexto iA\\\\gpi.txt\")\n",
    "texto=archivo_abierto.read()\n",
    "print(texto)\n",
    "archivo_abierto.close()"
   ]
  },
  {
   "cell_type": "code",
   "execution_count": null,
   "metadata": {},
   "outputs": [],
   "source": []
  }
 ],
 "metadata": {
  "kernelspec": {
   "display_name": "Python 3",
   "language": "python",
   "name": "python3"
  },
  "language_info": {
   "codemirror_mode": {
    "name": "ipython",
    "version": 3
   },
   "file_extension": ".py",
   "mimetype": "text/x-python",
   "name": "python",
   "nbconvert_exporter": "python",
   "pygments_lexer": "ipython3",
   "version": "3.12.2"
  }
 },
 "nbformat": 4,
 "nbformat_minor": 2
}
