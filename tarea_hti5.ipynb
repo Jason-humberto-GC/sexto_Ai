{
 "cells": [
  {
   "cell_type": "code",
   "execution_count": 38,
   "metadata": {},
   "outputs": [
    {
     "name": "stdout",
     "output_type": "stream",
     "text": [
      "Esto es escribe en el archivo\n",
      "Esto tambien\n",
      "mira, puedo escribir \"comillas\" \n",
      "gracias a la diagonal invertida:  \n",
      "hola\n",
      "\n",
      "Displaying 1 of 1 matches:\n",
      " archivo Esto tambien mira , puedo escribir `` comillas '' gracias a la diagon\n",
      "No matches\n"
     ]
    }
   ],
   "source": [
    "import nltk\n",
    "carpeta_nombre = \"documentos\\\\\"\n",
    "archivo_nombre = \"gpi.txt\"\n",
    "\n",
    "with open(carpeta_nombre+archivo_nombre,\"r\") as archivo:\n",
    "    texto=archivo.read()\n",
    "    print (texto)\n",
    "tokens=nltk.word_tokenize(texto,\"spanish\")\n",
    "texto_nltk=nltk.Text(tokens)\n",
    "texto_nltk.concordance(\"escribir\")\n",
    "texto_nltk.similar(\"esto \\n\")"
   ]
  },
  {
   "cell_type": "code",
   "execution_count": 31,
   "metadata": {},
   "outputs": [
    {
     "name": "stdout",
     "output_type": "stream",
     "text": [
      "tiempo mundo\n"
     ]
    }
   ],
   "source": [
    "import nltk\n",
    "carpeta_nombre = \"documentos\\\\\"\n",
    "archivo_nombre = \"dos.txt\"\n",
    "\n",
    "with open(carpeta_nombre+archivo_nombre,\"r\") as archivo:\n",
    "    texto=archivo.read()\n",
    "    \n",
    "tokens=nltk.word_tokenize(texto,\"spanish\")\n",
    "texto_nltk=nltk.Text(tokens)\n",
    "texto_nltk.similar(\"apellido\")"
   ]
  }
 ],
 "metadata": {
  "kernelspec": {
   "display_name": "Python 3",
   "language": "python",
   "name": "python3"
  },
  "language_info": {
   "codemirror_mode": {
    "name": "ipython",
    "version": 3
   },
   "file_extension": ".py",
   "mimetype": "text/x-python",
   "name": "python",
   "nbconvert_exporter": "python",
   "pygments_lexer": "ipython3",
   "version": "3.12.2"
  }
 },
 "nbformat": 4,
 "nbformat_minor": 2
}
