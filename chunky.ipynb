{
 "cells": [
  {
   "cell_type": "code",
   "execution_count": 2,
   "metadata": {},
   "outputs": [
    {
     "name": "stderr",
     "output_type": "stream",
     "text": [
      "[nltk_data] Downloading package punkt to\n",
      "[nltk_data]     C:\\Users\\jason\\AppData\\Roaming\\nltk_data...\n",
      "[nltk_data]   Package punkt is already up-to-date!\n",
      "[nltk_data] Downloading package averaged_perceptron_tagger to\n",
      "[nltk_data]     C:\\Users\\jason\\AppData\\Roaming\\nltk_data...\n",
      "[nltk_data]   Package averaged_perceptron_tagger is already up-to-\n",
      "[nltk_data]       date!\n",
      "[nltk_data] Downloading package state_union to\n",
      "[nltk_data]     C:\\Users\\jason\\AppData\\Roaming\\nltk_data...\n",
      "[nltk_data]   Unzipping corpora\\state_union.zip.\n"
     ]
    },
    {
     "name": "stdout",
     "output_type": "stream",
     "text": [
      "(S\n",
      "  NLTK/NNP\n",
      "  es/CC\n",
      "  (NP una/JJ biblioteca/NN)\n",
      "  (P de/IN)\n",
      "  Python/NNP\n",
      "  para/FW\n",
      "  (NP procesamiento/NN)\n",
      "  de/FW\n",
      "  lenguaje/FW\n",
      "  natural/JJ\n",
      "  ./.)\n",
      "NP: una biblioteca\n",
      "P: de\n",
      "NP: procesamiento\n"
     ]
    }
   ],
   "source": [
    "import nltk\n",
    "from nltk.chunk import RegexpParser\n",
    "from nltk.tokenize import word_tokenize\n",
    "from nltk.corpus import state_union\n",
    "from nltk.tag import pos_tag\n",
    "\n",
    "# Descargar los recursos necesarios de NLTK\n",
    "nltk.download('punkt')\n",
    "nltk.download('averaged_perceptron_tagger')\n",
    "nltk.download('state_union')\n",
    "\n",
    "# Ejemplo de texto\n",
    "text = \"NLTK es una biblioteca de Python para procesamiento de lenguaje natural.\"\n",
    "\n",
    "# Tokenizar el texto en palabras\n",
    "words = word_tokenize(text)\n",
    "\n",
    "# Etiquetar las palabras con sus POS tags\n",
    "tagged = pos_tag(words)\n",
    "\n",
    "# Definir la gramática para identificar frases nominales (NP)\n",
    "grammar = r\"\"\"\n",
    "    NP: {<DT>?<JJ>*<NN>}\n",
    "    P: {<IN>}\n",
    "    V: {<V.*>}\n",
    "    PP: {<P> <NP>}\n",
    "    VP: {<V> <NP|PP>*}\n",
    "\"\"\"\n",
    "\n",
    "# Crear el analizador de gramática\n",
    "parser = RegexpParser(grammar)\n",
    "\n",
    "# Aplicar el analizador al texto etiquetado\n",
    "result = parser.parse(tagged)\n",
    "\n",
    "# Imprimir el resultado\n",
    "print(result)\n",
    "\n",
    "# Función para mostrar el árbol de chunking de una forma más legible\n",
    "def print_chunks(tree):\n",
    "    for subtree in tree:\n",
    "        if isinstance(subtree, nltk.Tree):\n",
    "            print(f\"{subtree.label()}: {' '.join([word for word, tag in subtree.leaves()])}\")\n",
    "\n",
    "print_chunks(result)\n",
    "\n",
    "# Visualizar el árbol (opcional)\n",
    "result.draw()\n"
   ]
  }
 ],
 "metadata": {
  "kernelspec": {
   "display_name": "Python 3",
   "language": "python",
   "name": "python3"
  },
  "language_info": {
   "codemirror_mode": {
    "name": "ipython",
    "version": 3
   },
   "file_extension": ".py",
   "mimetype": "text/x-python",
   "name": "python",
   "nbconvert_exporter": "python",
   "pygments_lexer": "ipython3",
   "version": "3.12.2"
  }
 },
 "nbformat": 4,
 "nbformat_minor": 2
}
