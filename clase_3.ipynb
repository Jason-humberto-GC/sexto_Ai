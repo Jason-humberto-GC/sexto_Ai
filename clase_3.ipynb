{
 "cells": [
  {
   "cell_type": "code",
   "execution_count": 1,
   "metadata": {},
   "outputs": [
    {
     "name": "stdout",
     "output_type": "stream",
     "text": [
      "semana laboral  ['lunes', 'martes', 'miercoles', 'jueves', 'viernes']\n",
      "Dia 1:  viernes\n",
      "semana laboral= ['lunes', 'martes', 'miercoles', 'jueves', 'sabado ']\n",
      "semana laboral= ['lunes', 'martes', 'miercoles', 'jueves', 'viernes ']\n",
      "la longitud de la lista es de:  5\n",
      "la posision de la semana es : 2\n",
      "semana laborarl:  ['lunes', 'martes', 'miercoles', 'jueves', 'viernes ', 'sabado']\n",
      "semana laboral:  ['lunes', 'martes', 'miercoles', 'jueves', 'sabado']\n"
     ]
    }
   ],
   "source": [
    "#programar en python q  utizan listas \n",
    "\n",
    "semana_laboral=[\"lunes\",\"martes\",\"miercoles\",\"jueves\",\"viernes\"]\n",
    "print(\"semana laboral \",semana_laboral)\n",
    "\n",
    "print(\"Dia 1: \", semana_laboral[4]) #   imprime la posisio 4 que es el viernes recuerda que se inicia en 0\n",
    "\n",
    "semana_laboral[4]=\"sabado \" # se remplazo la posicion 4 que viene siendo viernes y se cambio por sabado \n",
    "print(\"semana laboral=\", semana_laboral)\n",
    "\n",
    "semana_laboral[4]=\"viernes \" \n",
    "print(\"semana laboral=\", semana_laboral)\n",
    "\n",
    "longitud_lista=len(semana_laboral)  ## sirve para ver la longitud de  la lista \n",
    "print(\"la longitud de la lista es de: \", longitud_lista)  \n",
    "\n",
    "pocision=semana_laboral.index(\"miercoles\") ##.index sirve parqa ver la posicion de la lista de un elemto\n",
    "print(\"la posision de la semana es :\", pocision)\n",
    "\n",
    "semana_laboral.append(\"sabado\")  ## append sirve para agreegar un elemto a lista\n",
    "print(\"semana laborarl: \", semana_laboral)\n",
    "\n",
    "del semana_laboral[4]  ## elimina \"del\" el elemto en la posicion 4\n",
    "print(\"semana laboral: \", semana_laboral)"
   ]
  },
  {
   "cell_type": "code",
   "execution_count": 2,
   "metadata": {},
   "outputs": [
    {
     "name": "stdout",
     "output_type": "stream",
     "text": [
      "['Esto es escribe en el archivo\\n', 'Esto tambien\\n', 'mira, puedo escribir \"comillas\" \\n', 'gracias a la diagonal invertida:  \\n']\n"
     ]
    }
   ],
   "source": [
    "#este es un ejemplo de como se puede leer un archivo de texto y meterlo en una lista\n",
    "archivo_nombre= \"gpi.txt\"\n",
    "with open(archivo_nombre,\"r\") as archivo:\n",
    "    lineas_liata=archivo.readlines()  # readlines lo mete todo en una lista y lo pone jjunto\n",
    "print(lineas_liata)"
   ]
  },
  {
   "cell_type": "code",
   "execution_count": 3,
   "metadata": {},
   "outputs": [
    {
     "name": "stdout",
     "output_type": "stream",
     "text": [
      "Esto es escribe en el archivo\n",
      "\n",
      "Esto tambien\n",
      "\n",
      "mira, puedo escribir \"comillas\" \n",
      "\n",
      "gracias a la diagonal invertida:  \n",
      "\n"
     ]
    }
   ],
   "source": [
    "#este es un ejemplo de como se puede leer un archivo de texto y meterlo en una lista y separarlo por lineas\n",
    "archivo_nombre= \"gpi.txt\"\n",
    "with open(archivo_nombre,\"r\") as archivo:\n",
    "    lineas_liata=archivo.readlines()   # separa la lista por lineas\n",
    "#print(lineas_liata)\n",
    "for linea in lineas_liata:\n",
    "    print(linea)"
   ]
  },
  {
   "cell_type": "code",
   "execution_count": 4,
   "metadata": {},
   "outputs": [
    {
     "name": "stdout",
     "output_type": "stream",
     "text": [
      "numero de lineas:  1  :  Esto es escribe en el archivo\n",
      "\n",
      "numero de lineas:  2  :  Esto tambien\n",
      "\n",
      "numero de lineas:  3  :  mira, puedo escribir \"comillas\" \n",
      "\n",
      "numero de lineas:  4  :  gracias a la diagonal invertida:  \n",
      "\n"
     ]
    }
   ],
   "source": [
    "#este es un ejemplo de como se puede leer un archivo de texto y meterlo en una lista y separarlo por lineas y ponerles el nuero de linea que son\n",
    "archivo_nombre= \"gpi.txt\"\n",
    "with open(archivo_nombre,\"r\") as archivo:\n",
    "    lineas_liata=archivo.readlines()   # se crea la lista del archivo gpi.txt \n",
    "    \n",
    "num_linea=1\n",
    "\n",
    "for linea in lineas_liata:  # separa la lista por lineas \"linea\"\n",
    "    print(\"numero de lineas: \",num_linea ,\" : \", linea)   #  # separa la lista por lineas y ponerles el nuero de linea que son  apartir del  espacio 1 asignado en num_linea\n",
    "    num_linea=num_linea+1"
   ]
  },
  {
   "cell_type": "code",
   "execution_count": 5,
   "metadata": {},
   "outputs": [
    {
     "name": "stdout",
     "output_type": "stream",
     "text": [
      "linea 1  :  Esto es escribe en el archivo\n",
      "\n",
      "linea 2  :  Esto tambien\n",
      "\n",
      "linea 3  :  mira, puedo escribir \"comillas\" \n",
      "\n",
      "linea 4  :  gracias a la diagonal invertida:  \n",
      "\n"
     ]
    }
   ],
   "source": [
    "#este es un ejemplo de como se puede leer un archivo de texto y meterlo en una lista y separarlo por lineas y ponerles el nuero de linea que son\n",
    "archivo_nombre= \"hola.txt\"\n",
    "with open(archivo_nombre,\"r\") as archivo:\n",
    "    lineas_liata=archivo.readlines()   # se crea la lista del archivo gpi.txt \n",
    "    \n",
    "num_linea=1\n",
    "lineas_H=0\n",
    "lineas_v=0\n",
    "\n",
    "for linea in lineas_liata:  # separa la lista por lineas \"linea\"\n",
    "    \n",
    "    if linea.strip() == \"\":  # elimina las lineas vacias de la lista  \n",
    "            continue\n",
    "    print(\"linea\", num_linea,\" : \",linea)\n",
    "    num_linea=num_linea+1"
   ]
  },
  {
   "cell_type": "code",
   "execution_count": 6,
   "metadata": {},
   "outputs": [
    {
     "name": "stdout",
     "output_type": "stream",
     "text": [
      "linea 1  :  Esto es escribe en el archivo\n",
      "\n",
      "linea 2  :  Esto tambien\n",
      "\n",
      "linea 3  :  mira, puedo escribir \"comillas\" \n",
      "\n",
      "linea 4  :  gracias a la diagonal invertida:  \n",
      "\n",
      "las lineas totales son:  4\n",
      "lineas vacias:  0\n",
      "liena con texto: 4\n"
     ]
    }
   ],
   "source": [
    "#este es un ejemplo de como se puede leer un archivo de texto y meterlo en una lista y separarlo por lineas y ponerles el nuero de linea que son\n",
    "# y ademas decir cuantas lineas hay en total y cuantas lineas hay vacias y cuantas lineas hay con texto\n",
    "archivo_nombre= \"hola.txt\"\n",
    "with open(archivo_nombre,\"r\") as archivo:\n",
    "    lineas_liata=archivo.readlines()   # se crea la lista del archivo gpi.txt \n",
    "    \n",
    "num_linea=1\n",
    "lin_tol= len(lineas_liata)\n",
    "linea_tol_vasia=0\n",
    "linea_tol_texto=0\n",
    "\n",
    "\n",
    "for linea in lineas_liata:  # separa la lista por lineas \"linea\"\n",
    "    \n",
    "    if linea.strip() == \"\":  # elimina las lineas vacias de la lista  \n",
    "            print(\"lineas vacias \")   \n",
    "            linea_tol_vasia=linea_tol_vasia+1  # cuantas lineas hay vasias y incrementa en 1 cunado lo encuentra \n",
    "            continue\n",
    "    print(\"linea\", num_linea,\" : \",linea)\n",
    "    num_linea=num_linea+1\n",
    "    \n",
    "    linea_tol_texto=lin_tol-linea_tol_vasia  # dice la slineas d etexto  que hay\n",
    "    \n",
    "print(\"las lineas totales son: \",lin_tol)\n",
    "print(\"lineas vacias: \",linea_tol_vasia)\n",
    "print (\"liena con texto:\",linea_tol_texto)"
   ]
  },
  {
   "cell_type": "code",
   "execution_count": 8,
   "metadata": {},
   "outputs": [
    {
     "name": "stdout",
     "output_type": "stream",
     "text": [
      "gpi.txt\n",
      "hola.txt\n"
     ]
    }
   ],
   "source": [
    "#este progrma es para leer los archivos de una carpeta y listarlos \n",
    "import os\n",
    "carpeta_nombre =\"documentos\\\\\"\n",
    "archivo_lista=os.listdir(carpeta_nombre) # lista los archivos de la carpeta documentos  \n",
    "for archivo_nombre in archivo_lista:\n",
    "    print(archivo_nombre) "
   ]
  }
 ],
 "metadata": {
  "kernelspec": {
   "display_name": "Python 3",
   "language": "python",
   "name": "python3"
  },
  "language_info": {
   "codemirror_mode": {
    "name": "ipython",
    "version": 3
   },
   "file_extension": ".py",
   "mimetype": "text/x-python",
   "name": "python",
   "nbconvert_exporter": "python",
   "pygments_lexer": "ipython3",
   "version": "3.12.2"
  }
 },
 "nbformat": 4,
 "nbformat_minor": 2
}
