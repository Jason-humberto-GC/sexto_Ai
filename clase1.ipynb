{
 "cells": [
  {
   "cell_type": "code",
   "execution_count": 38,
   "metadata": {},
   "outputs": [
    {
     "name": "stderr",
     "output_type": "stream",
     "text": [
      "[nltk_data] Downloading package vader_lexicon to\n",
      "[nltk_data]     C:\\Users\\jason\\AppData\\Roaming\\nltk_data...\n",
      "[nltk_data]   Package vader_lexicon is already up-to-date!\n"
     ]
    },
    {
     "data": {
      "text/plain": [
       "True"
      ]
     },
     "execution_count": 38,
     "metadata": {},
     "output_type": "execute_result"
    }
   ],
   "source": [
    "import nltk\n",
    "nltk.download('vader_lexicon')\n"
   ]
  },
  {
   "cell_type": "code",
   "execution_count": 39,
   "metadata": {},
   "outputs": [
    {
     "name": "stdout",
     "output_type": "stream",
     "text": [
      "Texto traducido: I have good memory\n",
      "Resultado: Positivo\n",
      "Compound: 0.4404\n",
      "Positivo: 0.592\n",
      "Neutral: 0.408\n",
      "Negativo: 0.0\n"
     ]
    }
   ],
   "source": [
    "from nltk.sentiment.vader import SentimentIntensityAnalyzer\n",
    "from translate import Translator\n",
    "\n",
    "def traducir_texto(texto, de='es', a='en'):\n",
    "    # Crear un objeto Translator\n",
    "    translator = Translator(from_lang=de, to_lang=a)\n",
    "    # Traducir el texto\n",
    "    traduccion = translator.translate(texto)\n",
    "    return traduccion\n",
    "\n",
    "def analizar_sentimiento_vader(texto):\n",
    "    # Crear un objeto SentimentIntensityAnalyzer\n",
    "    sia = SentimentIntensityAnalyzer()\n",
    "    \n",
    "    # Analizar el sentimiento\n",
    "    sentimiento = sia.polarity_scores(texto)\n",
    "    \n",
    "    # Obtener las puntuaciones\n",
    "    compound = sentimiento['compound']\n",
    "    pos = sentimiento['pos']\n",
    "    neu = sentimiento['neu']\n",
    "    neg = sentimiento['neg']\n",
    "    \n",
    "    # Determinar el tipo de sentimiento\n",
    "    if compound > 0.05:\n",
    "        resultado = 'Positivo'\n",
    "    elif compound < -0.05:\n",
    "        resultado = 'Negativo'\n",
    "    else:\n",
    "        resultado = 'Neutral'\n",
    "    \n",
    "    return resultado, compound, pos, neu, neg\n",
    "\n",
    "if __name__ == \"__main__\":\n",
    "    texto = input(\"Introduce una frase en español para analizar su sentimiento: \")\n",
    "    texto_traducido = traducir_texto(texto)\n",
    "    resultado, compound, pos, neu, neg = analizar_sentimiento_vader(texto_traducido)\n",
    "    print(f\"Texto traducido: {texto_traducido}\")\n",
    "    print(f\"Resultado: {resultado}\")\n",
    "    print(f\"Compound: {compound}\")\n",
    "    print(f\"Positivo: {pos}\")\n",
    "    print(f\"Neutral: {neu}\")\n",
    "    print(f\"Negativo: {neg}\")\n"
   ]
  }
 ],
 "metadata": {
  "kernelspec": {
   "display_name": "Python 3",
   "language": "python",
   "name": "python3"
  },
  "language_info": {
   "codemirror_mode": {
    "name": "ipython",
    "version": 3
   },
   "file_extension": ".py",
   "mimetype": "text/x-python",
   "name": "python",
   "nbconvert_exporter": "python",
   "pygments_lexer": "ipython3",
   "version": "3.12.2"
  }
 },
 "nbformat": 4,
 "nbformat_minor": 2
}
