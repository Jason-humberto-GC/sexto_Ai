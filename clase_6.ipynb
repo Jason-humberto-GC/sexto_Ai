{
 "cells": [
  {
   "cell_type": "code",
   "execution_count": 1,
   "metadata": {},
   "outputs": [],
   "source": [
    "import nltk\n",
    "#nltk.download(\"punkt\")"
   ]
  },
  {
   "cell_type": "code",
   "execution_count": 2,
   "metadata": {},
   "outputs": [
    {
     "name": "stdout",
     "output_type": "stream",
     "text": [
      "Esto es escribe en el archivo\n",
      "Esto tambien\n",
      "mira, puedo escribir \"comillas\" \n",
      "gracias a la diagonal invertida:  \n",
      "hola\n",
      "\n",
      "las palabras totales son: 22 , las palabras diferentes son: 21\n",
      "la riqueza lexica es de: 0.9545454545454546\n"
     ]
    }
   ],
   "source": [
    "def riqueza_lexica(tokens):\n",
    "    tokens_conjunto=set(tokens)\n",
    "    palabras_totales=len(tokens)\n",
    "    palabras_diferentes=len(tokens_conjunto)\n",
    "    riqueza_lexica=palabras_diferentes/palabras_totales\n",
    "    print (\"las palabras totales son:\", palabras_totales, \",\", \"las palabras diferentes son:\", palabras_diferentes,)\n",
    "    return riqueza_lexica\n",
    "\n",
    "## Leer un archivo de texto y tokenizarlo\n",
    "carpeta_nombre = \"documentos\\\\\"\n",
    "archivo_nombre = \"gpi.txt\"\n",
    "\n",
    "\n",
    "with open(carpeta_nombre+archivo_nombre,\"r\") as archivo:\n",
    "    texto=archivo.read()\n",
    "    print (texto)\n",
    "tokens=nltk.word_tokenize(texto,\"spanish\")\n",
    "riqueza_lexica=riqueza_lexica(tokens)\n",
    "print(\"la riqueza lexica es de:\",riqueza_lexica)"
   ]
  },
  {
   "cell_type": "code",
   "execution_count": 3,
   "metadata": {},
   "outputs": [
    {
     "name": "stdout",
     "output_type": "stream",
     "text": [
      "veces que se encontro la palabra:  1\n",
      "porsentaje de vese que sale la pabra en el documento:  4.545454545454546  %\n"
     ]
    }
   ],
   "source": [
    "# Aquí, nuestra lista de tokens se llama \"tokens\"\n",
    "conteo_individual=tokens.count(\"el\")\n",
    "print( \"veces que se encontro la palabra: \",conteo_individual)\n",
    "palabras_totales=len(tokens)\n",
    "porcentaje=100*conteo_individual/palabras_totales #porcentaje de la palabra \"el\" en el texto\n",
    "print( \"porsentaje de vese que sale la pabra en el documento: \",porcentaje,\" %\")"
   ]
  }
 ],
 "metadata": {
  "kernelspec": {
   "display_name": "Python 3",
   "language": "python",
   "name": "python3"
  },
  "language_info": {
   "codemirror_mode": {
    "name": "ipython",
    "version": 3
   },
   "file_extension": ".py",
   "mimetype": "text/x-python",
   "name": "python",
   "nbconvert_exporter": "python",
   "pygments_lexer": "ipython3",
   "version": "3.12.2"
  }
 },
 "nbformat": 4,
 "nbformat_minor": 2
}
