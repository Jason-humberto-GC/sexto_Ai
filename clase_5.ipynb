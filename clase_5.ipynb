{
 "cells": [
  {
   "cell_type": "code",
   "execution_count": 1,
   "metadata": {},
   "outputs": [
    {
     "name": "stderr",
     "output_type": "stream",
     "text": [
      "[nltk_data] Downloading package punkt to\n",
      "[nltk_data]     C:\\Users\\jason\\AppData\\Roaming\\nltk_data...\n",
      "[nltk_data]   Package punkt is already up-to-date!\n"
     ]
    },
    {
     "data": {
      "text/plain": [
       "True"
      ]
     },
     "execution_count": 1,
     "metadata": {},
     "output_type": "execute_result"
    }
   ],
   "source": [
    "import nltk\n",
    "nltk.download(\"punkt\")\n"
   ]
  },
  {
   "cell_type": "code",
   "execution_count": 2,
   "metadata": {},
   "outputs": [
    {
     "name": "stdout",
     "output_type": "stream",
     "text": [
      "Esto\n",
      "es\n",
      "escribe\n",
      "en\n",
      "el\n",
      "archivo\n",
      "Esto\n",
      "tambien\n",
      "mira\n",
      ",\n",
      "puedo\n",
      "escribir\n",
      "``\n",
      "comillas\n",
      "''\n",
      "gracias\n",
      "a\n",
      "la\n",
      "diagonal\n",
      "invertida\n",
      ":\n",
      "hola\n"
     ]
    }
   ],
   "source": [
    "## Leer un archivo de texto y tokenizarlo\n",
    "carpeta_nombre = \"documentos\\\\\"\n",
    "archivo_nombre = \"gpi.txt\"\n",
    "\n",
    "## en esta parte se lee el archivo y se tokeniza el texto en palabras y signos de puntuación \n",
    "with open(carpeta_nombre + archivo_nombre, \"r\") as archivo:\n",
    "    texto = archivo.read()\n",
    "    \n",
    "tokens = nltk.word_tokenize(texto,\"spanish\") \n",
    "\n",
    "for token in tokens:\n",
    "    print(token)"
   ]
  },
  {
   "cell_type": "code",
   "execution_count": 6,
   "metadata": {},
   "outputs": [
    {
     "name": "stdout",
     "output_type": "stream",
     "text": [
      "total de palabras:  22\n"
     ]
    }
   ],
   "source": [
    "# estas lineas sirven para contar el total de palabras que hay en el texto\n",
    "palabras_totales = len(tokens)\n",
    "print(\"total de palabras: \", palabras_totales)"
   ]
  },
  {
   "cell_type": "code",
   "execution_count": 3,
   "metadata": {},
   "outputs": [
    {
     "name": "stdout",
     "output_type": "stream",
     "text": [
      "Riqueza lexica:  0.9545454545454546\n"
     ]
    }
   ],
   "source": [
    "# estas lineas nos sirven para contar el total de palabras diferentes que hay en el texto y calcular la riqueza lexica\n",
    "tokens_conjunto = set(tokens)\n",
    "palabras_totales= len(tokens)\n",
    "palabras_diferentes = len(tokens_conjunto)\n",
    "\n",
    "riqueza_lexica = palabras_diferentes/palabras_totales\n",
    "print(\"Riqueza lexica: \", riqueza_lexica)"
   ]
  }
 ],
 "metadata": {
  "kernelspec": {
   "display_name": "Python 3",
   "language": "python",
   "name": "python3"
  },
  "language_info": {
   "codemirror_mode": {
    "name": "ipython",
    "version": 3
   },
   "file_extension": ".py",
   "mimetype": "text/x-python",
   "name": "python",
   "nbconvert_exporter": "python",
   "pygments_lexer": "ipython3",
   "version": "3.12.2"
  }
 },
 "nbformat": 4,
 "nbformat_minor": 2
}
